{
 "cells": [
  {
   "cell_type": "code",
   "execution_count": 1,
   "id": "8ccb884d-01f6-4995-ba2e-1601ed5a271f",
   "metadata": {},
   "outputs": [],
   "source": [
    "import pandas as pd\n",
    "import numpy as np\n",
    "import plotly.express as px\n",
    "import requests\n",
    "import time\n",
    "from tqdm import tqdm\n",
    "from unidecode import unidecode"
   ]
  },
  {
   "cell_type": "code",
   "execution_count": 2,
   "id": "d9908583-2ff7-4480-a047-417d5564d883",
   "metadata": {},
   "outputs": [],
   "source": [
    "tqdm.pandas()"
   ]
  },
  {
   "cell_type": "markdown",
   "id": "250d2627-e726-4dfd-acf2-c7fef1b98e2d",
   "metadata": {
    "tags": []
   },
   "source": [
    "### Read"
   ]
  },
  {
   "cell_type": "code",
   "execution_count": 124,
   "id": "6595f706-5cf6-4f6a-8816-b1bbebf9feb5",
   "metadata": {
    "tags": []
   },
   "outputs": [
    {
     "data": {
      "text/plain": [
       "'\\nFONTES DE DADOS E INDICADORES\\n\\nOs dados disponíveis foram extraídos das soluções SinespJC e Sinesp Integração, fontes primárias dos seguintes indicadores: Totais de Ocorrências e Totais de Vítimas de estupro, furto de veículos, homicídio doloso, lesão corporal seguida de morte, roubo à instituição financeira, roubo de carga, roubo de veículos e roubo seguido de morte.\\n\\nNOTA\\n\\nÉ importante ressaltar que as informações apresentadas refletem o nível de alimentação e consolidação de cada Unidade da Federação no SinespJC e Sinesp Integração na data de sua extração, podendo ocorrer atualizações posteriores à publicação. Salientamos que se considera como último período os dados consolidados que antecedem os últimos três meses, por exemplo: Em fev/2019, serão publicados os dados de jan/2015 a out/2018; em mar/2019 os dados de jan/2015 a nov/2018; e assim sucessivamente. Isso se faz necessário para que os Gestores Estaduais possam coletar, tratar e validar os dados antes do fornecimento e consolidação via SinespJC, não sendo exigido esse processo aos entes que já utilizam o Sinesp Integração e consideram os dados transmitidos como fonte para a produção das estatísticas oficiais.\\n\\n'"
      ]
     },
     "execution_count": 124,
     "metadata": {},
     "output_type": "execute_result"
    }
   ],
   "source": [
    "#Reads the excel file as a dict, joining all worksheets to one\n",
    "df_dict = pd.read_excel(\"C:/Users/User/Documents/data_sets/indicadoressegurancapublicamunic.xlsx\", sheet_name=None) \n",
    "# Data source https://dados.mj.gov.br/dataset/sistema-nacional-de-estatisticas-de-seguranca-publica"
   ]
  },
  {
   "cell_type": "markdown",
   "id": "f1202249-1cb4-4e07-b999-9a4b5fdef808",
   "metadata": {},
   "source": [
    "### Compile"
   ]
  },
  {
   "cell_type": "code",
   "execution_count": 125,
   "id": "b46e1da2-1a0e-4397-8614-121a841753cb",
   "metadata": {
    "tags": []
   },
   "outputs": [],
   "source": [
    "#Concates all the dicts readed before into one single pd.DataFrame()\n",
    "df = pd.concat(df_dict.values(), ignore_index=True)\n",
    "#The excel file above, is a file with multiple sheets. \n",
    "#This step joins all the sheets into one single DataFrame"
   ]
  },
  {
   "cell_type": "markdown",
   "id": "63edfceb-ee92-4e23-8a45-4386334c3716",
   "metadata": {},
   "source": [
    "### Data cleaning"
   ]
  },
  {
   "cell_type": "code",
   "execution_count": 126,
   "id": "b4e9bad9-eafc-4841-bdee-618f9091386c",
   "metadata": {
    "tags": []
   },
   "outputs": [
    {
     "data": {
      "text/html": [
       "<div>\n",
       "<style scoped>\n",
       "    .dataframe tbody tr th:only-of-type {\n",
       "        vertical-align: middle;\n",
       "    }\n",
       "\n",
       "    .dataframe tbody tr th {\n",
       "        vertical-align: top;\n",
       "    }\n",
       "\n",
       "    .dataframe thead th {\n",
       "        text-align: right;\n",
       "    }\n",
       "</style>\n",
       "<table border=\"1\" class=\"dataframe\">\n",
       "  <thead>\n",
       "    <tr style=\"text-align: right;\">\n",
       "      <th></th>\n",
       "      <th>Cód_IBGE</th>\n",
       "      <th>Município</th>\n",
       "      <th>Sigla UF</th>\n",
       "      <th>Região</th>\n",
       "      <th>Mês/Ano</th>\n",
       "      <th>Vítimas</th>\n",
       "    </tr>\n",
       "  </thead>\n",
       "  <tbody>\n",
       "    <tr>\n",
       "      <th>0</th>\n",
       "      <td>1200138</td>\n",
       "      <td>Bujari</td>\n",
       "      <td>AC</td>\n",
       "      <td>NORTE</td>\n",
       "      <td>2018-01-01</td>\n",
       "      <td>1</td>\n",
       "    </tr>\n",
       "    <tr>\n",
       "      <th>1</th>\n",
       "      <td>1200203</td>\n",
       "      <td>Cruzeiro do Sul</td>\n",
       "      <td>AC</td>\n",
       "      <td>NORTE</td>\n",
       "      <td>2018-01-01</td>\n",
       "      <td>8</td>\n",
       "    </tr>\n",
       "    <tr>\n",
       "      <th>2</th>\n",
       "      <td>1200302</td>\n",
       "      <td>Feijó</td>\n",
       "      <td>AC</td>\n",
       "      <td>NORTE</td>\n",
       "      <td>2018-01-01</td>\n",
       "      <td>3</td>\n",
       "    </tr>\n",
       "    <tr>\n",
       "      <th>3</th>\n",
       "      <td>1200328</td>\n",
       "      <td>Jordão</td>\n",
       "      <td>AC</td>\n",
       "      <td>NORTE</td>\n",
       "      <td>2018-01-01</td>\n",
       "      <td>1</td>\n",
       "    </tr>\n",
       "    <tr>\n",
       "      <th>4</th>\n",
       "      <td>1200336</td>\n",
       "      <td>Mâncio Lima</td>\n",
       "      <td>AC</td>\n",
       "      <td>NORTE</td>\n",
       "      <td>2018-01-01</td>\n",
       "      <td>1</td>\n",
       "    </tr>\n",
       "  </tbody>\n",
       "</table>\n",
       "</div>"
      ],
      "text/plain": [
       "   Cód_IBGE        Município Sigla UF Região    Mês/Ano  Vítimas\n",
       "0   1200138           Bujari       AC  NORTE 2018-01-01        1\n",
       "1   1200203  Cruzeiro do Sul       AC  NORTE 2018-01-01        8\n",
       "2   1200302            Feijó       AC  NORTE 2018-01-01        3\n",
       "3   1200328           Jordão       AC  NORTE 2018-01-01        1\n",
       "4   1200336      Mâncio Lima       AC  NORTE 2018-01-01        1"
      ]
     },
     "execution_count": 126,
     "metadata": {},
     "output_type": "execute_result"
    }
   ],
   "source": [
    "#Take a look at the dataframe\n",
    "df.head(5)"
   ]
  },
  {
   "cell_type": "code",
   "execution_count": 127,
   "id": "3d984286-336f-4ff6-8545-32bec3162df9",
   "metadata": {
    "tags": []
   },
   "outputs": [],
   "source": [
    "#Renames all columns_names to a pattern\n",
    "df = df.rename(columns={'Município':'Municipio', 'Sigla UF': 'Sigla_UF', 'Mês/Ano':'Mes_Ano', 'Vítimas':'Vitimas', 'Região': 'Regiao'}).copy()\n",
    "#Column Cód_IBGE won't be needed on our analysis, so it can be discarded for memory usage improvement\n",
    "df = df.drop('Cód_IBGE', axis=1)"
   ]
  },
  {
   "cell_type": "code",
   "execution_count": 128,
   "id": "c99a0ea5-312d-4a1b-aed4-8688700c06fa",
   "metadata": {
    "tags": []
   },
   "outputs": [
    {
     "data": {
      "text/html": [
       "<div>\n",
       "<style scoped>\n",
       "    .dataframe tbody tr th:only-of-type {\n",
       "        vertical-align: middle;\n",
       "    }\n",
       "\n",
       "    .dataframe tbody tr th {\n",
       "        vertical-align: top;\n",
       "    }\n",
       "\n",
       "    .dataframe thead th {\n",
       "        text-align: right;\n",
       "    }\n",
       "</style>\n",
       "<table border=\"1\" class=\"dataframe\">\n",
       "  <thead>\n",
       "    <tr style=\"text-align: right;\">\n",
       "      <th></th>\n",
       "      <th>Municipio</th>\n",
       "      <th>Sigla_UF</th>\n",
       "      <th>Regiao</th>\n",
       "      <th>Mes_Ano</th>\n",
       "      <th>Vitimas</th>\n",
       "    </tr>\n",
       "  </thead>\n",
       "  <tbody>\n",
       "    <tr>\n",
       "      <th>0</th>\n",
       "      <td>Bujari</td>\n",
       "      <td>AC</td>\n",
       "      <td>NORTE</td>\n",
       "      <td>2018-01-01</td>\n",
       "      <td>1</td>\n",
       "    </tr>\n",
       "    <tr>\n",
       "      <th>1</th>\n",
       "      <td>Cruzeiro do Sul</td>\n",
       "      <td>AC</td>\n",
       "      <td>NORTE</td>\n",
       "      <td>2018-01-01</td>\n",
       "      <td>8</td>\n",
       "    </tr>\n",
       "    <tr>\n",
       "      <th>2</th>\n",
       "      <td>Feijó</td>\n",
       "      <td>AC</td>\n",
       "      <td>NORTE</td>\n",
       "      <td>2018-01-01</td>\n",
       "      <td>3</td>\n",
       "    </tr>\n",
       "    <tr>\n",
       "      <th>3</th>\n",
       "      <td>Jordão</td>\n",
       "      <td>AC</td>\n",
       "      <td>NORTE</td>\n",
       "      <td>2018-01-01</td>\n",
       "      <td>1</td>\n",
       "    </tr>\n",
       "    <tr>\n",
       "      <th>4</th>\n",
       "      <td>Mâncio Lima</td>\n",
       "      <td>AC</td>\n",
       "      <td>NORTE</td>\n",
       "      <td>2018-01-01</td>\n",
       "      <td>1</td>\n",
       "    </tr>\n",
       "  </tbody>\n",
       "</table>\n",
       "</div>"
      ],
      "text/plain": [
       "         Municipio Sigla_UF Regiao    Mes_Ano  Vitimas\n",
       "0           Bujari       AC  NORTE 2018-01-01        1\n",
       "1  Cruzeiro do Sul       AC  NORTE 2018-01-01        8\n",
       "2            Feijó       AC  NORTE 2018-01-01        3\n",
       "3           Jordão       AC  NORTE 2018-01-01        1\n",
       "4      Mâncio Lima       AC  NORTE 2018-01-01        1"
      ]
     },
     "execution_count": 128,
     "metadata": {},
     "output_type": "execute_result"
    }
   ],
   "source": [
    "df.head(5)"
   ]
  },
  {
   "cell_type": "markdown",
   "id": "d73f990d-7dbf-4ee7-96fa-bc3cf9c7745d",
   "metadata": {},
   "source": [
    "#### Get cities CEP's"
   ]
  },
  {
   "cell_type": "code",
   "execution_count": 130,
   "id": "107046e5-fba5-4ec1-a750-f66430e3d9f0",
   "metadata": {
    "tags": []
   },
   "outputs": [
    {
     "data": {
      "text/html": [
       "<div>\n",
       "<style scoped>\n",
       "    .dataframe tbody tr th:only-of-type {\n",
       "        vertical-align: middle;\n",
       "    }\n",
       "\n",
       "    .dataframe tbody tr th {\n",
       "        vertical-align: top;\n",
       "    }\n",
       "\n",
       "    .dataframe thead th {\n",
       "        text-align: right;\n",
       "    }\n",
       "</style>\n",
       "<table border=\"1\" class=\"dataframe\">\n",
       "  <thead>\n",
       "    <tr style=\"text-align: right;\">\n",
       "      <th></th>\n",
       "      <th>Sigla_UF</th>\n",
       "      <th>Municipio</th>\n",
       "      <th>CEP_Inicial</th>\n",
       "    </tr>\n",
       "  </thead>\n",
       "  <tbody>\n",
       "    <tr>\n",
       "      <th>0</th>\n",
       "      <td>AC</td>\n",
       "      <td>acrelandia</td>\n",
       "      <td>69945000</td>\n",
       "    </tr>\n",
       "    <tr>\n",
       "      <th>1</th>\n",
       "      <td>AC</td>\n",
       "      <td>assis brasil</td>\n",
       "      <td>69935000</td>\n",
       "    </tr>\n",
       "    <tr>\n",
       "      <th>2</th>\n",
       "      <td>AC</td>\n",
       "      <td>brasileia</td>\n",
       "      <td>69932000</td>\n",
       "    </tr>\n",
       "    <tr>\n",
       "      <th>3</th>\n",
       "      <td>AC</td>\n",
       "      <td>bujari</td>\n",
       "      <td>69926000</td>\n",
       "    </tr>\n",
       "    <tr>\n",
       "      <th>4</th>\n",
       "      <td>AC</td>\n",
       "      <td>capixaba</td>\n",
       "      <td>69931000</td>\n",
       "    </tr>\n",
       "    <tr>\n",
       "      <th>...</th>\n",
       "      <td>...</td>\n",
       "      <td>...</td>\n",
       "      <td>...</td>\n",
       "    </tr>\n",
       "    <tr>\n",
       "      <th>6073</th>\n",
       "      <td>SE</td>\n",
       "      <td>gracho cardoso</td>\n",
       "      <td>49860000</td>\n",
       "    </tr>\n",
       "    <tr>\n",
       "      <th>6074</th>\n",
       "      <td>SE</td>\n",
       "      <td>n/i</td>\n",
       "      <td>49100000</td>\n",
       "    </tr>\n",
       "    <tr>\n",
       "      <th>6075</th>\n",
       "      <td>TO</td>\n",
       "      <td>sao valerio</td>\n",
       "      <td>77390000</td>\n",
       "    </tr>\n",
       "    <tr>\n",
       "      <th>6076</th>\n",
       "      <td>TO</td>\n",
       "      <td>tabocao</td>\n",
       "      <td>77708000</td>\n",
       "    </tr>\n",
       "    <tr>\n",
       "      <th>6077</th>\n",
       "      <td>TO</td>\n",
       "      <td>couto magalhaes</td>\n",
       "      <td>77750000</td>\n",
       "    </tr>\n",
       "  </tbody>\n",
       "</table>\n",
       "<p>6078 rows × 3 columns</p>\n",
       "</div>"
      ],
      "text/plain": [
       "     Sigla_UF        Municipio  CEP_Inicial\n",
       "0          AC       acrelandia     69945000\n",
       "1          AC     assis brasil     69935000\n",
       "2          AC        brasileia     69932000\n",
       "3          AC           bujari     69926000\n",
       "4          AC         capixaba     69931000\n",
       "...       ...              ...          ...\n",
       "6073       SE   gracho cardoso     49860000\n",
       "6074       SE              n/i     49100000\n",
       "6075       TO      sao valerio     77390000\n",
       "6076       TO          tabocao     77708000\n",
       "6077       TO  couto magalhaes     77750000\n",
       "\n",
       "[6078 rows x 3 columns]"
      ]
     },
     "execution_count": 130,
     "metadata": {},
     "output_type": "execute_result"
    }
   ],
   "source": [
    "all_ceps = pd.read_excel(\"C:/Users/User/Documents/data_sets/Lista_de_CEPs.xlsx\") \n",
    "#Data source: https://terminaldeinformacao.com/2019/01/12/tabela-com-lista-de-ceps-do-brasil/\n",
    "\n",
    "all_ceps = all_ceps[['Estado', 'Localidade', 'CEP Inicial']]\n",
    "all_ceps = all_ceps.rename(columns={'Estado':'Sigla_UF', 'Localidade':'Municipio', 'CEP Inicial':'CEP_Inicial'})\n",
    "all_ceps['Municipio'] = all_ceps['Municipio'].apply(str.lower)\n",
    "all_ceps['Municipio'] = all_ceps['Municipio'].apply(unidecode)\n",
    "#all_ceps['Municipio'] = all_ceps['Municipio'].apply(str.replace(' ', ''))\n",
    "all_ceps['Sigla_UF'] = all_ceps['Sigla_UF'].apply(str.upper)\n",
    "all_ceps['Sigla_UF'] = all_ceps['Sigla_UF'].apply(unidecode)\n",
    "#all_ceps['Sigla_UF'] = all_ceps['Sigla_UF'].apply(str.replace(' ', ''))\n",
    "all_ceps\n",
    "\n",
    "#A DataFrame containing all cities ceps"
   ]
  },
  {
   "cell_type": "code",
   "execution_count": 131,
   "id": "04924c66-4758-44d2-b702-86bde50c5389",
   "metadata": {},
   "outputs": [],
   "source": [
    "def get_cep_by_city_uf(city, uf, cep_table):\n",
    "    city = unidecode(city.lower())\n",
    "    uf = unidecode(uf.upper())\n",
    "    \n",
    "    ##Option 1 of cross filtering data and returning index - Has been proof to be more effective than the next one\n",
    "    cep_table = cep_table[(cep_table['Municipio'] == city) & (cep_table['Sigla_UF'] == uf)]\n",
    "    if len(cep_table) >0:\n",
    "        return cep_table.iloc[0,2]\n",
    "    else:\n",
    "        return 'NaN'\n",
    "    \n",
    "    ##Option 2\n",
    "    '''\n",
    "    for i, row in cep_table.iterrows():\n",
    "        if((row['Municipio'].lower() == city.lower()) and (row['Sigla_UF'].upper() == uf.upper())):\n",
    "            return row['CEP_Inicial']\n",
    "    \n",
    "    return 'NaN'\n",
    "    '''"
   ]
  },
  {
   "cell_type": "code",
   "execution_count": 132,
   "id": "ca747ef8-5bf1-4793-849f-7461afce35ae",
   "metadata": {},
   "outputs": [
    {
     "name": "stderr",
     "output_type": "stream",
     "text": [
      "100%|██████████| 280085/280085 [19:31<00:00, 239.15it/s]\n"
     ]
    }
   ],
   "source": [
    "df['CEP'] = df.progress_apply(lambda x: get_cep_by_city_uf(x['Municipio'], x['Sigla_UF'], all_ceps), axis=1)"
   ]
  },
  {
   "cell_type": "code",
   "execution_count": 133,
   "id": "a0c78bd5-03d2-42cd-a2a9-bc2d7f36bb94",
   "metadata": {},
   "outputs": [],
   "source": [
    "df['CEP'] = df['CEP'].astype('str')"
   ]
  },
  {
   "cell_type": "code",
   "execution_count": 139,
   "id": "218ccf56-b02e-4a27-b01e-e113ee74c958",
   "metadata": {},
   "outputs": [],
   "source": [
    "df.to_csv('C:/Users/User/Documents/data_sets/Brazil_crimes/df_final.csv')"
   ]
  }
 ],
 "metadata": {
  "kernelspec": {
   "display_name": "Python 3 (ipykernel)",
   "language": "python",
   "name": "python3"
  },
  "language_info": {
   "codemirror_mode": {
    "name": "ipython",
    "version": 3
   },
   "file_extension": ".py",
   "mimetype": "text/x-python",
   "name": "python",
   "nbconvert_exporter": "python",
   "pygments_lexer": "ipython3",
   "version": "3.9.7"
  }
 },
 "nbformat": 4,
 "nbformat_minor": 5
}
